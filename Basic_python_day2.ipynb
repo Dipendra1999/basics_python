{
 "cells": [
  {
   "cell_type": "code",
   "execution_count": 1,
   "id": "ba53a15a-c907-48ea-bd88-21fcb1bbec4c",
   "metadata": {},
   "outputs": [
    {
     "name": "stdout",
     "output_type": "stream",
     "text": [
      "helloworld\n"
     ]
    }
   ],
   "source": [
    "x=\"hello\"\n",
    "y='world'\n",
    "z=x+y\n",
    "print(z)"
   ]
  },
  {
   "cell_type": "code",
   "execution_count": 4,
   "id": "6f565220-2f49-46aa-a814-752e78f9a869",
   "metadata": {},
   "outputs": [
    {
     "name": "stdin",
     "output_type": "stream",
     "text": [
      "Enter the temperature in celcius 78\n"
     ]
    },
    {
     "name": "stdout",
     "output_type": "stream",
     "text": [
      "78.0 degree centigrade in Kelvin is 351.15\n"
     ]
    }
   ],
   "source": [
    "c=float(input(\"Enter the temperature in celcius\"))\n",
    "print(f\"{c} degree centigrade in Kelvin is {c+273.15}\")"
   ]
  },
  {
   "cell_type": "code",
   "execution_count": 9,
   "id": "f4c38bd1-9abc-4752-beed-534b8f77d595",
   "metadata": {},
   "outputs": [
    {
     "name": "stdin",
     "output_type": "stream",
     "text": [
      "enter the number for checking prime  121\n"
     ]
    },
    {
     "name": "stdout",
     "output_type": "stream",
     "text": [
      "121 is not prime number\n"
     ]
    }
   ],
   "source": [
    "def isPrime(p):\n",
    "    if p==1:\n",
    "        return False\n",
    "    if p==2 or p==3:\n",
    "        return True\n",
    "    if (p%2==0) or (p%3==0):\n",
    "        return False\n",
    "    for i in range(6, p//2, 6):\n",
    "        if p%(i-1)==0 or p%(i+1)==0:\n",
    "            return False\n",
    "    return True\n",
    "\n",
    "\n",
    "p=int(input('enter the number for checking prime '))\n",
    "if isPrime(p):\n",
    "    print(f'{p} is prime number')\n",
    "else:\n",
    "    print(f'{p} is not prime number')\n",
    "    "
   ]
  },
  {
   "cell_type": "code",
   "execution_count": 10,
   "id": "a714fae2-cb0b-4a94-9d05-c4aac67b31d3",
   "metadata": {},
   "outputs": [
    {
     "name": "stdin",
     "output_type": "stream",
     "text": [
      "enter the string of characters my name is dipendra singh\n"
     ]
    },
    {
     "name": "stdout",
     "output_type": "stream",
     "text": [
      "vowel count in the given string is  7\n"
     ]
    }
   ],
   "source": [
    "x=input(\"enter the string of characters\")\n",
    "vowel_count=0\n",
    "vowel_count+=x.count('a')\n",
    "vowel_count+=x.count('e')\n",
    "vowel_count+=x.count('i')\n",
    "vowel_count+=x.count('o')\n",
    "vowel_count+=x.count('u')\n",
    "\n",
    "print(\"vowel count in the given string is \", vowel_count)"
   ]
  },
  {
   "cell_type": "code",
   "execution_count": 24,
   "id": "6a4dabb1-c991-44c7-9e4d-a2d2c0403b9d",
   "metadata": {},
   "outputs": [
    {
     "name": "stdout",
     "output_type": "stream",
     "text": [
      "MY NAME IS DIPENDRA SINGH.\n",
      "my name is dipendra singh.\n",
      "my name is dipendra singh.\n",
      "My name is dipendra singh.\n",
      "my name is dipendra singh.\n",
      "my name is dipendra singh.\n",
      "b'my name is dipendra singh.'\n",
      "-1\n",
      "True\n",
      "False\n",
      "False\n",
      "False\n",
      "False\n",
      "For only 49.00 dollars!\n"
     ]
    }
   ],
   "source": [
    "x=\"my name is dipendra singh.\"\n",
    "print(x.upper())\n",
    "print(x)\n",
    "print(x.lower())\n",
    "print(x.capitalize())\n",
    "print(x.casefold())\n",
    "print(x.center(10))\n",
    "print(x.encode())\n",
    "print(x.find('A'))\n",
    "print(x.endswith('.'))\n",
    "print(x.isalpha())\n",
    "print(x.isdecimal())\n",
    "print(x.isalnum())\n",
    "print(x.isdigit())\n",
    "\n",
    "txt = \"For only {price:.2f} dollars!\"\n",
    "print(txt.format(price = 49))"
   ]
  },
  {
   "cell_type": "code",
   "execution_count": 28,
   "id": "639ca167-c1fb-4e7b-ba9a-5c901af342cd",
   "metadata": {},
   "outputs": [
    {
     "name": "stdout",
     "output_type": "stream",
     "text": [
      "False\n"
     ]
    }
   ],
   "source": [
    "s = \"The quick brown fox jumps over the lazy dog\"\n",
    "\n",
    "f=0\n",
    "for char in s.lower():\n",
    "    if char.isalpha():\n",
    "        f=f | 1 << (ord(char)-ord('a'))\n",
    "\n",
    "if f== (1<<26) -1:\n",
    "    print(True)\n",
    "else:\n",
    "    print(False)"
   ]
  },
  {
   "cell_type": "code",
   "execution_count": 34,
   "id": "4bf9a339-5257-43ba-9898-064cfae62cc9",
   "metadata": {},
   "outputs": [
    {
     "name": "stdout",
     "output_type": "stream",
     "text": [
      "True\n"
     ]
    }
   ],
   "source": [
    "import string\n",
    "s = \"The quick brown fox jumps over the lazy dog\"\n",
    "\n",
    "for char in string.ascii_lowercase:\n",
    "    if s.lower().count(char)==0:\n",
    "        print(False)\n",
    "        break\n",
    "else:\n",
    "    print(True)"
   ]
  },
  {
   "cell_type": "code",
   "execution_count": 35,
   "id": "4d9da4a8-519e-46eb-8ce9-dbbbd744d226",
   "metadata": {},
   "outputs": [
    {
     "name": "stdout",
     "output_type": "stream",
     "text": [
      "ardnepiD hgniS\n"
     ]
    }
   ],
   "source": [
    "def reverse_string(s):\n",
    "    return s[::-1]\n",
    "s=\"Singh Dipendra\"\n",
    "print(reverse_string(s))"
   ]
  },
  {
   "cell_type": "code",
   "execution_count": null,
   "id": "a7bb050a-7e3b-4d22-9be6-aa70839ff639",
   "metadata": {},
   "outputs": [],
   "source": []
  }
 ],
 "metadata": {
  "kernelspec": {
   "display_name": "Python 3 (ipykernel)",
   "language": "python",
   "name": "python3"
  },
  "language_info": {
   "codemirror_mode": {
    "name": "ipython",
    "version": 3
   },
   "file_extension": ".py",
   "mimetype": "text/x-python",
   "name": "python",
   "nbconvert_exporter": "python",
   "pygments_lexer": "ipython3",
   "version": "3.13.0"
  }
 },
 "nbformat": 4,
 "nbformat_minor": 5
}
