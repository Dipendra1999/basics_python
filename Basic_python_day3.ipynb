{
 "cells": [
  {
   "cell_type": "code",
   "execution_count": 5,
   "id": "55a08d41-273b-4c93-9025-6dced6c0bf8a",
   "metadata": {},
   "outputs": [
    {
     "data": {
      "text/plain": [
       "False"
      ]
     },
     "execution_count": 5,
     "metadata": {},
     "output_type": "execute_result"
    }
   ],
   "source": [
    "def leap_year(y):\n",
    "    if y%100==0:\n",
    "        if y%400==0:\n",
    "            return True\n",
    "        else:\n",
    "            return False\n",
    "    elif y%4==0:\n",
    "        return True\n",
    "    else:\n",
    "        return False\n",
    "\n",
    "y=100\n",
    "leap_year(y)"
   ]
  },
  {
   "cell_type": "code",
   "execution_count": 11,
   "id": "40225256-34fd-4828-ae86-04497ccfa68b",
   "metadata": {},
   "outputs": [
    {
     "name": "stdin",
     "output_type": "stream",
     "text": [
      "enter the list of number separated by space 1 1 1 1 1 1 2\n"
     ]
    },
    {
     "name": "stdout",
     "output_type": "stream",
     "text": [
      "Unsorted  [2]\n",
      "Sorted  [2]\n"
     ]
    }
   ],
   "source": [
    "lst=input(\"enter the list of number separated by space\")\n",
    "lst=[int(x) for x in lst.split()]\n",
    "\n",
    "even_list=[]\n",
    "for l in lst:\n",
    "    if l%2==0:                    #if l&1==1:\n",
    "        even_list.append(l)       #   lst.remove(l)\n",
    "print(\"Unsorted \",even_list)\n",
    "even_list.sort()\n",
    "print(\"Sorted \",even_list)"
   ]
  },
  {
   "cell_type": "markdown",
   "id": "c40ef538-1b18-4c91-b6d6-d31df704d07b",
   "metadata": {},
   "source": [
    "list methods: append() clear() copy() count() extend() index() insert() pop() remove() reverse() sort()\n",
    "tuple methods: count() index()"
   ]
  },
  {
   "cell_type": "code",
   "execution_count": 14,
   "id": "a5864db2-ff07-4033-977d-ef57d983c82a",
   "metadata": {},
   "outputs": [
    {
     "name": "stdin",
     "output_type": "stream",
     "text": [
      "enter the number 10\n"
     ]
    },
    {
     "name": "stdout",
     "output_type": "stream",
     "text": [
      "1\n",
      "1\n",
      "2\n",
      "3\n",
      "5\n",
      "8\n",
      "13\n",
      "21\n",
      "34\n",
      "55\n"
     ]
    }
   ],
   "source": [
    "n=int(input(\"enter the number\"))\n",
    "a=0\n",
    "b=1\n",
    "for i in range(0,n):\n",
    "    print(b)\n",
    "    c=b\n",
    "    b=a+b\n",
    "    a=c\n"
   ]
  },
  {
   "cell_type": "code",
   "execution_count": 17,
   "id": "ddca914c-c684-49b8-ae73-ac45910d7352",
   "metadata": {},
   "outputs": [
    {
     "name": "stdin",
     "output_type": "stream",
     "text": [
      "enter the list of names separated by space aman dipu aram ali badshah aarif shahbaz azim\n"
     ]
    },
    {
     "name": "stdout",
     "output_type": "stream",
     "text": [
      "['Aman', 'Dipu', 'Aram', 'Ali', 'Badshah', 'Aarif', 'Shahbaz', 'Azim']\n",
      "Aman\n",
      "Aram\n",
      "Ali\n",
      "Aarif\n",
      "Azim\n"
     ]
    }
   ],
   "source": [
    "names=input(\"enter the list of names separated by space\")\n",
    "names=[n.capitalize() for n in names.split()]\n",
    "print(names)\n",
    "for n in names:\n",
    "    if n[0]=='A':\n",
    "        print(n)"
   ]
  },
  {
   "cell_type": "code",
   "execution_count": 22,
   "id": "aa69879e-1808-4c46-b681-03d2999a1bab",
   "metadata": {},
   "outputs": [
    {
     "name": "stdin",
     "output_type": "stream",
     "text": [
      "enter the number for finding the all prime below the given number 50\n"
     ]
    },
    {
     "name": "stdout",
     "output_type": "stream",
     "text": [
      "[2, 3, 5, 7, 11, 13, 17, 19, 23, 29, 31, 37, 41, 43, 47]\n"
     ]
    }
   ],
   "source": [
    "# find all prime\n",
    "import math\n",
    "def isPrime(p):\n",
    "    if p==1:\n",
    "        return False\n",
    "    if p==2 or p==3:\n",
    "        return True\n",
    "    if (p%2==0) or (p%3==0):\n",
    "        return False\n",
    "    for i in range(6, int(math.sqrt(p))+2, 6):\n",
    "        if p%(i-1)==0 or p%(i+1)==0:\n",
    "            return False\n",
    "    return True\n",
    "\n",
    "n=int(input(\"enter the number for finding the all prime below the given number\"))\n",
    "all_prime=[]\n",
    "for i in range(2,n+1):\n",
    "    if isPrime(i):\n",
    "        all_prime.append(i)\n",
    "print(all_prime)"
   ]
  },
  {
   "cell_type": "code",
   "execution_count": 25,
   "id": "5fea6488-bf92-4297-a674-692a08555232",
   "metadata": {},
   "outputs": [
    {
     "name": "stdin",
     "output_type": "stream",
     "text": [
      "enter the number 66788\n"
     ]
    },
    {
     "name": "stdout",
     "output_type": "stream",
     "text": [
      "reverse of 66788 is 88766\n"
     ]
    }
   ],
   "source": [
    "# sum od digits of the given number\n",
    "n=int(input(\"enter the number\"))\n",
    "sum=0\n",
    "num=n\n",
    "while n>0:\n",
    "    rem=n%10\n",
    "    sum=sum*10+rem\n",
    "    n=n//10\n",
    "print(f\"reverse of {num} is\",sum)\n"
   ]
  },
  {
   "cell_type": "markdown",
   "id": "1a28d80b-10c9-4f72-9220-c266d8cb3eba",
   "metadata": {},
   "source": [
    "list[1:4]=[\"banana\"]\n",
    "list methods:\n",
    "l.insert(index, value)\n",
    "l.append(value)\n",
    "l.extend(list or any interable[list/ tuple/ set/ dict])\n",
    "l.remove(value)\n",
    "l.pop(index)\n",
    "del list_name[index]    // delete index value in list\n",
    "del list_name           //delete entire list\n",
    "l.clear()               //clear the content in list\n",
    "l.sort()                //alphanumerically sort\n",
    "l.sort(reverse=True)\n",
    "l.sort(key=myfunc)      //customize sort function\n",
    "l2=l1                   //l2 will point same list of l1\n",
    "l2=l1.copy()            //this will create new(copy) list \n",
    "l2=list(l1)  == l2=l1[:]  // slice also copy list \n",
    "l.index(value)\n",
    "l.count(value)"
   ]
  }
 ],
 "metadata": {
  "kernelspec": {
   "display_name": "Python 3 (ipykernel)",
   "language": "python",
   "name": "python3"
  },
  "language_info": {
   "codemirror_mode": {
    "name": "ipython",
    "version": 3
   },
   "file_extension": ".py",
   "mimetype": "text/x-python",
   "name": "python",
   "nbconvert_exporter": "python",
   "pygments_lexer": "ipython3",
   "version": "3.13.0"
  }
 },
 "nbformat": 4,
 "nbformat_minor": 5
}
