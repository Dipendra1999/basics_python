{
 "cells": [
  {
   "cell_type": "code",
   "execution_count": 1,
   "id": "c8fe666c-0d84-416e-8db9-ee92896ee4f4",
   "metadata": {},
   "outputs": [
    {
     "name": "stdout",
     "output_type": "stream",
     "text": [
      "olleh\n"
     ]
    }
   ],
   "source": [
    "def reverse(s):\n",
    "    return s[::-1]\n",
    "s=input(\"enter the string\")\n",
    "print(reverse(s))\n"
   ]
  },
  {
   "cell_type": "code",
   "execution_count": 5,
   "id": "d8a0b4fd-300b-4989-8589-aac085412316",
   "metadata": {},
   "outputs": [
    {
     "name": "stdout",
     "output_type": "stream",
     "text": [
      "enter the number 7\n"
     ]
    },
    {
     "name": "stdout",
     "output_type": "stream",
     "text": [
      "5040\n"
     ]
    }
   ],
   "source": [
    "def fact(n):\n",
    "    if n==0 or n==1:\n",
    "        return 1\n",
    "    return fact(n-1)*n\n",
    "\n",
    "n=int(input(\"enter the number\"))\n",
    "print(fact(n))"
   ]
  },
  {
   "cell_type": "code",
   "execution_count": 10,
   "id": "6da71145-91b4-411c-a114-6d6d3ed37429",
   "metadata": {},
   "outputs": [
    {
     "name": "stdout",
     "output_type": "stream",
     "text": [
      "enter the list of number separated by comma  1,2,3,4,5,6,7,1,3\n"
     ]
    },
    {
     "name": "stdout",
     "output_type": "stream",
     "text": [
      "[1, 2, 3, 4, 5, 6, 7, 1, 3]\n",
      "after square \n",
      "[1, 4, 9, 16, 25, 36, 49, 1, 9]\n"
     ]
    }
   ],
   "source": [
    "def square_list_item(l):\n",
    "    for i in range(len(l)):\n",
    "        l[i]=l[i]*l[i]\n",
    "\n",
    "\n",
    "l=input(\"enter the list of number separated by comma \")\n",
    "l=[int(x) for x in l.split(',')]\n",
    "\n",
    "print(l)\n",
    "square_list_item(l)\n",
    "print(\"after square \")\n",
    "print(l)"
   ]
  },
  {
   "cell_type": "code",
   "execution_count": 11,
   "id": "7eff9a78-a6ad-4dff-84ac-44f1815cbc5a",
   "metadata": {},
   "outputs": [
    {
     "name": "stdout",
     "output_type": "stream",
     "text": [
      "enter the list1: item separated by ',' 1,3,4,6,7,8\n",
      "enter the list2: item separated by ',' 1,4,2,8,5\n"
     ]
    },
    {
     "name": "stdout",
     "output_type": "stream",
     "text": [
      "intersection of the two above list is \n",
      "['1', '4', '8']\n"
     ]
    }
   ],
   "source": [
    "def intersection(l1, l2):\n",
    "    l3=[]\n",
    "    for x in l2:\n",
    "        if x in l1:\n",
    "            l3.append(x)\n",
    "    return l3\n",
    "\n",
    "l1=input(\"enter the list1: item separated by ','\")\n",
    "l1=[x for x in l1.split(',')]\n",
    "l2=input(\"enter the list2: item separated by ','\")\n",
    "l2=[x for x in l2.split(',')]\n",
    "\n",
    "l3=intersection(l1,l2)\n",
    "print(\"intersection of the two above list is \")\n",
    "print(l3)"
   ]
  },
  {
   "cell_type": "code",
   "execution_count": 15,
   "id": "f0d5c1da-d4dc-470a-9e80-414f3710428b",
   "metadata": {},
   "outputs": [
    {
     "name": "stdout",
     "output_type": "stream",
     "text": [
      "enter the number:  4\n"
     ]
    },
    {
     "name": "stdout",
     "output_type": "stream",
     "text": [
      "4*1=4\n",
      "4*2=8\n",
      "4*3=12\n",
      "4*4=16\n",
      "4*5=20\n",
      "4*6=24\n",
      "4*7=28\n",
      "4*8=32\n",
      "4*9=36\n",
      "4*10=40\n"
     ]
    }
   ],
   "source": [
    "def multiplication_table(n):\n",
    "    i=1\n",
    "    while i<11:\n",
    "        print(f\"{n}*{i}={n*i}\")\n",
    "        i=i+1\n",
    "    \n",
    "n=int(input(\"enter the number: \"))\n",
    "multiplication_table(n)"
   ]
  },
  {
   "cell_type": "code",
   "execution_count": null,
   "id": "0450ffd1-4a4d-4ec6-96aa-a33615231aa1",
   "metadata": {},
   "outputs": [],
   "source": []
  }
 ],
 "metadata": {
  "kernelspec": {
   "display_name": "Python 3",
   "language": "python",
   "name": "python3"
  },
  "language_info": {
   "codemirror_mode": {
    "name": "ipython",
    "version": 3
   },
   "file_extension": ".py",
   "mimetype": "text/x-python",
   "name": "python",
   "nbconvert_exporter": "python",
   "pygments_lexer": "ipython3",
   "version": "3.13.0"
  }
 },
 "nbformat": 4,
 "nbformat_minor": 5
}
