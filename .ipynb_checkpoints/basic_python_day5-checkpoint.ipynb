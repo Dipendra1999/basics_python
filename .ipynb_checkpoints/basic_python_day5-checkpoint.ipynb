{
 "cells": [
  {
   "cell_type": "code",
   "execution_count": 13,
   "id": "ef7a9f73-45d2-4959-9593-bad0bf1effed",
   "metadata": {},
   "outputs": [
    {
     "name": "stdout",
     "output_type": "stream",
     "text": [
      "My name is Dipendra Singh. My age is 24 years.\n",
      "My name is Dipendra Singh. My age is 24 years.\n"
     ]
    }
   ],
   "source": [
    "l=[\"My\",\"name\",\"is\",\"Dipendra\",\"Singh.\", \"My\",\"age\",\"is\",\"24\",\"years.\"]\n",
    "\n",
    "s=' '.join(l)     # ' ' is a string separater str.join()\n",
    "print(s)\n",
    "\n",
    "st=' '.join(map(str,l))    # map will covert all element of list into string\n",
    "print(st)"
   ]
  },
  {
   "cell_type": "markdown",
   "id": "7e841b08-1d5f-4c10-a2bb-b193c22cabc1",
   "metadata": {},
   "source": [
    "string methods:\n",
    "capitalize() casefold() center()\n",
    "endswith() find() format() index()\n",
    "isalnum() isalpha() isascii() isdigit() isdecimal() isdecimal() isnumeric() islower() isupper()\n",
    "join()     #add iterable to end of string\n",
    "lstrip() rstrip() strip()\n",
    "lower() upper()"
   ]
  },
  {
   "cell_type": "code",
   "execution_count": 19,
   "id": "cd7c3555-fa5e-4e59-8c2a-d8efedf89d98",
   "metadata": {},
   "outputs": [
    {
     "name": "stdin",
     "output_type": "stream",
     "text": [
      "enter a sentence:  gh g h g \n"
     ]
    },
    {
     "name": "stdout",
     "output_type": "stream",
     "text": [
      "number of words in the given sentence is 5\n"
     ]
    }
   ],
   "source": [
    "l=input(\"enter a sentence: \")\n",
    "l=[s for s in l.split(' ')]\n",
    "\n",
    "size=len(l)\n",
    "print(f\"number of words in the given sentence is {size}\")"
   ]
  },
  {
   "cell_type": "code",
   "execution_count": 26,
   "id": "ad9905cf-e97d-42ae-9650-d1935ca7f7d6",
   "metadata": {},
   "outputs": [
    {
     "name": "stdin",
     "output_type": "stream",
     "text": [
      "enter a string:  my name is dipendra singh\n"
     ]
    },
    {
     "name": "stdout",
     "output_type": "stream",
     "text": [
      "my nm s dpndr sngh\n"
     ]
    }
   ],
   "source": [
    "s=input(\"enter a string: \")\n",
    "\n",
    "s=s.replace('a' , '')\n",
    "s=s.replace('e' , '')\n",
    "s=s.replace('i' , '')\n",
    "s=s.replace('o' , '')\n",
    "s=s.replace('u' , '')\n",
    "print(s)"
   ]
  },
  {
   "cell_type": "code",
   "execution_count": 29,
   "id": "4544cc25-3fe6-45e4-be25-1df9691b29dd",
   "metadata": {},
   "outputs": [
    {
     "name": "stdin",
     "output_type": "stream",
     "text": [
      "enter a sentence:  my name is dipendra singh\n"
     ]
    },
    {
     "name": "stdout",
     "output_type": "stream",
     "text": [
      "length of the longest word in the given sentence is 8\n"
     ]
    }
   ],
   "source": [
    "def length_of_longest_word(s):\n",
    "    length=0\n",
    "    for x in s.split(' '):\n",
    "        if length<len(x):\n",
    "            length=len(x)\n",
    "    return length\n",
    "\n",
    "s=input(\"enter a sentence: \")\n",
    "print(f\"length of the longest word in the given sentence is {length_of_longest_word(s)}\")"
   ]
  },
  {
   "cell_type": "code",
   "execution_count": 34,
   "id": "1422e1b1-585d-44ee-b19b-170896014a01",
   "metadata": {},
   "outputs": [
    {
     "name": "stdin",
     "output_type": "stream",
     "text": [
      "enter the sentence:  my name is dipendra singh\n"
     ]
    },
    {
     "name": "stdout",
     "output_type": "stream",
     "text": [
      "reverse of the given sentence is: singh dipendra is name my\n"
     ]
    }
   ],
   "source": [
    "def reverse_sent(s):\n",
    "    l=[x for x in s.split(' ')]\n",
    "    #s=' '.join(map(str , l[::-1]))\n",
    "    s=' '.join(l[::-1])\n",
    "    return s\n",
    "\n",
    "\n",
    "s=input(\"enter the sentence: \")\n",
    "print(f\"reverse of the given sentence is: {reverse_sent(s)}\")"
   ]
  },
  {
   "cell_type": "code",
   "execution_count": 35,
   "id": "4dc8085f-18af-4e79-b7e8-2f0e1f7f5a6c",
   "metadata": {},
   "outputs": [
    {
     "name": "stdin",
     "output_type": "stream",
     "text": [
      "enter a sentence:  my name is dipendra singh\n"
     ]
    },
    {
     "name": "stdout",
     "output_type": "stream",
     "text": [
      "after removing all duplicate from given string : my naeisdprgh\n"
     ]
    }
   ],
   "source": [
    "s=input(\"enter a sentence: \")\n",
    "ans=''\n",
    "for x in s:\n",
    "    if x not in ans:\n",
    "        ans=ans+x\n",
    "\n",
    "print(f\"after removing all duplicate from given string : {ans}\")"
   ]
  },
  {
   "cell_type": "code",
   "execution_count": null,
   "id": "c979c4a1-7221-4cfe-98dc-3ab69b82c796",
   "metadata": {},
   "outputs": [],
   "source": []
  }
 ],
 "metadata": {
  "kernelspec": {
   "display_name": "Python 3 (ipykernel)",
   "language": "python",
   "name": "python3"
  },
  "language_info": {
   "codemirror_mode": {
    "name": "ipython",
    "version": 3
   },
   "file_extension": ".py",
   "mimetype": "text/x-python",
   "name": "python",
   "nbconvert_exporter": "python",
   "pygments_lexer": "ipython3",
   "version": "3.13.0"
  }
 },
 "nbformat": 4,
 "nbformat_minor": 5
}
