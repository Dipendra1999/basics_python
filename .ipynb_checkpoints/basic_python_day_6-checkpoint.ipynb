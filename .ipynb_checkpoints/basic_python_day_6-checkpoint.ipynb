{
 "cells": [
  {
   "cell_type": "code",
   "execution_count": 2,
   "id": "bbe8c449-362e-4a7a-b66e-fba560302115",
   "metadata": {},
   "outputs": [
    {
     "name": "stdin",
     "output_type": "stream",
     "text": [
      "enter the list of numbers separated by comma:  1,2,3,4,5,6,7\n"
     ]
    },
    {
     "name": "stdout",
     "output_type": "stream",
     "text": [
      "sum= 28\n",
      "avg= 4.0\n"
     ]
    }
   ],
   "source": [
    "l=input(\"enter the list of numbers separated by comma: \")\n",
    "l=[int(x) for x in l.split(',')]\n",
    "print(f\"sum= {sum(l)}\")\n",
    "print(f\"avg= {sum(l)/len(l)}\")"
   ]
  },
  {
   "cell_type": "code",
   "execution_count": 3,
   "id": "eabe8c57-7c5a-4968-9184-a6eb9bfcca51",
   "metadata": {},
   "outputs": [
    {
     "name": "stdin",
     "output_type": "stream",
     "text": [
      "enter the list of numbers separated by comma:  1,2,3,4\n",
      "enter the list of numbers separated by comma:  2,3,4,5\n"
     ]
    },
    {
     "name": "stdout",
     "output_type": "stream",
     "text": [
      "l1=  [1, 2, 3, 4, 2, 3, 4, 5]\n"
     ]
    }
   ],
   "source": [
    "l1=input(\"enter the list of numbers separated by comma: \")\n",
    "l1=[int(x) for x in l1.split(',')]\n",
    "l2=input(\"enter the list of numbers separated by comma: \")\n",
    "l2=[int(x) for x in l2.split(',')]\n",
    "\n",
    "l1=l1+l2\n",
    "print(\"l1= \",l1)"
   ]
  },
  {
   "cell_type": "code",
   "execution_count": 21,
   "id": "062f4d33-7cba-4d9d-a3f7-d8cadcd8b01e",
   "metadata": {},
   "outputs": [
    {
     "name": "stdin",
     "output_type": "stream",
     "text": [
      "enter the list of elements separated by comma:  1,1,1,1,1\n",
      "enter the list of elements separated by comma:  1\n"
     ]
    },
    {
     "name": "stdout",
     "output_type": "stream",
     "text": [
      "common elements between two lists: [1]\n"
     ]
    }
   ],
   "source": [
    "def common(l1,l2):\n",
    "    l3=[]\n",
    "    for x in l1:\n",
    "        if x in l2  and x not in l3:\n",
    "            l3.append(x)\n",
    "    return l3\n",
    "l1=input(\"enter the list of elements separated by comma: \")\n",
    "l1=[int(x.strip()) for x in l1.split(',')]\n",
    "l2=input(\"enter the list of elements separated by comma: \")\n",
    "l2=[int(x.strip()) for x in l2.split(',')]\n",
    "\n",
    "print(f\"common elements between two lists: {common(l1,l2)}\")"
   ]
  },
  {
   "cell_type": "code",
   "execution_count": 15,
   "id": "ace44bd8-f9c3-490c-9033-1c537c8eac9c",
   "metadata": {},
   "outputs": [
    {
     "name": "stdin",
     "output_type": "stream",
     "text": [
      "enter the list of strings separated by space:  my name is dipendra singh\n"
     ]
    },
    {
     "name": "stdout",
     "output_type": "stream",
     "text": [
      "list sorted by length is: ['my', 'is', 'name', 'singh', 'dipendra']\n"
     ]
    }
   ],
   "source": [
    "\n",
    "def sorted(ls):\n",
    "    ls.sort(key=len)\n",
    "    return ls\n",
    "\n",
    "ls=input(\"enter the list of strings separated by space: \")\n",
    "ls=[x for x in ls.split(' ')]\n",
    "\n",
    "print(f\"list sorted by length is: {sorted(ls)}\")"
   ]
  },
  {
   "cell_type": "code",
   "execution_count": 18,
   "id": "09f9abcf-eca1-42a3-b69e-7c7286751efa",
   "metadata": {},
   "outputs": [
    {
     "name": "stdin",
     "output_type": "stream",
     "text": [
      "enter the list of numbers separated by comma:  1,1,1,1,1\n"
     ]
    },
    {
     "name": "stdout",
     "output_type": "stream",
     "text": [
      "YES! given list in ascending order.\n"
     ]
    }
   ],
   "source": [
    "def isascending(li):\n",
    "    for i in range(len(li)-1):\n",
    "        if li[i]>li[i+1]:\n",
    "            return False\n",
    "    return True\n",
    "li=input(\"enter the list of numbers separated by comma: \")\n",
    "li=[int(x) for x in li.split(',')]\n",
    "\n",
    "if isascending(li):\n",
    "    print(\"YES! given list in ascending order.\")\n",
    "else:\n",
    "    print(\"NO! given list is not in ascending order.\")\n",
    "        "
   ]
  },
  {
   "cell_type": "code",
   "execution_count": 20,
   "id": "dcead64a-7441-4adb-bdf3-9ff30ce4e1ac",
   "metadata": {},
   "outputs": [
    {
     "name": "stdin",
     "output_type": "stream",
     "text": [
      "enter the list of elements separated by comma:  1, 2,3 , 4 ,5\n",
      "enter the list of elements separated by comma:  1    ,4 ,7,8,9\n"
     ]
    },
    {
     "name": "stdout",
     "output_type": "stream",
     "text": [
      "union of the two above list is : [1, 2, 3, 4, 5, 7, 8, 9]\n"
     ]
    }
   ],
   "source": [
    "def union(l1,l2):\n",
    "    l3=[]\n",
    "    for x in l1:\n",
    "        if x not in l3:\n",
    "            l3.append(x)\n",
    "    for x in l2:\n",
    "        if x not in l3:\n",
    "            l3.append(x)\n",
    "    return l3\n",
    "l1=input(\"enter the list of elements separated by comma: \")\n",
    "l1=[int(x.strip()) for x in l1.split(',')]\n",
    "l2=input(\"enter the list of elements separated by comma: \")\n",
    "l2=[int(x.strip()) for x in l2.split(',')]\n",
    "\n",
    "print(f\"union of the two above list is : {union(l1,l2)}\")"
   ]
  },
  {
   "cell_type": "code",
   "execution_count": null,
   "id": "3b8b78a4-8910-4e72-9051-675dee3e642e",
   "metadata": {},
   "outputs": [],
   "source": []
  }
 ],
 "metadata": {
  "kernelspec": {
   "display_name": "Python 3 (ipykernel)",
   "language": "python",
   "name": "python3"
  },
  "language_info": {
   "codemirror_mode": {
    "name": "ipython",
    "version": 3
   },
   "file_extension": ".py",
   "mimetype": "text/x-python",
   "name": "python",
   "nbconvert_exporter": "python",
   "pygments_lexer": "ipython3",
   "version": "3.13.0"
  }
 },
 "nbformat": 4,
 "nbformat_minor": 5
}
