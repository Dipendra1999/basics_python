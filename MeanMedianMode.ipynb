{
 "cells": [
  {
   "cell_type": "code",
   "execution_count": null,
   "id": "f19f76e8",
   "metadata": {},
   "outputs": [],
   "source": [
    "import numpy\n",
    "import pandas"
   ]
  },
  {
   "cell_type": "markdown",
   "id": "aee308db",
   "metadata": {},
   "source": [
    "Write a class to implement mean, median mode on a list of data size 10"
   ]
  },
  {
   "cell_type": "code",
   "execution_count": null,
   "id": "68b3dc50",
   "metadata": {},
   "outputs": [],
   "source": []
  },
  {
   "cell_type": "code",
   "execution_count": null,
   "id": "c2931b0f",
   "metadata": {},
   "outputs": [],
   "source": [
    "class statistics:\n",
    "    def __init__(self,lst):\n",
    "        self.lst=lst\n",
    "    def meancalculate(self):\n",
    "        res = sum([i for i in self.lst])\n",
    "        return res/len(self.lst)\n",
    "    def mediancalculate(self):\n",
    "        return numpy.median(self.lst)\n",
    "    def modeCalculate(self):\n",
    "        m = max(set(self.lst), key=self.lst.count)\n",
    "        return m\n"
   ]
  },
  {
   "cell_type": "code",
   "execution_count": null,
   "id": "1aaec82d",
   "metadata": {},
   "outputs": [],
   "source": [
    "l=[23,35,43,22,333,22,22,34,55,33]"
   ]
  },
  {
   "cell_type": "code",
   "execution_count": null,
   "id": "75b89289",
   "metadata": {},
   "outputs": [],
   "source": [
    "dipulist=statistics(l)"
   ]
  },
  {
   "cell_type": "code",
   "execution_count": null,
   "id": "7ebfa1ec",
   "metadata": {},
   "outputs": [],
   "source": [
    "print(dipulist.meancalculate())\n",
    "print(dipulist.modeCalculate())\n",
    "print(dipulist.mediancalculate())"
   ]
  },
  {
   "cell_type": "markdown",
   "id": "75eedc4d",
   "metadata": {},
   "source": [
    "Write a class to implement matrix addition and subtraction on a list"
   ]
  },
  {
   "cell_type": "code",
   "execution_count": 38,
   "id": "4d38b210",
   "metadata": {},
   "outputs": [],
   "source": [
    "class matrixOP:\n",
    "    def __init__(self,matrix2D):\n",
    "        self.matrix2D=matrix2D\n",
    "\n",
    "    def addition(self,othermatrix):\n",
    "        return numpy.add(self.matrix2D,othermatrix.matrix2D)\n",
    "    def subtraction(self,othermatrix):\n",
    "        return numpy.subtract(self.matrix2D,othermatrix.matrix2D)\n"
   ]
  },
  {
   "cell_type": "code",
   "execution_count": null,
   "id": "239bb40f",
   "metadata": {},
   "outputs": [
    {
     "name": "stdout",
     "output_type": "stream",
     "text": [
      "enter the rows and column of 2 matrix\n",
      "print the matrix row wise order\n"
     ]
    }
   ],
   "source": [
    "#print(\"enter the rows and column of 2 matrix\")\n",
    "#rows=int(input())\n",
    "#columns=int(input())\n",
    "#print(\"print the matrix row wise order\")\n",
    "#j=columns\n",
    "#matrix=[]\n",
    "#for i in range(rows):\n",
    "#    l=input()\n",
    "#    l=[int(x) for x in l.split()]\n",
    "#    matrix.append(l)\n",
    "#matrix=[]\n",
    "#for i in range(rows):\n",
    "#    l=input()\n",
    "#    l=[int(x) for x in l.split()]\n",
    "#    matrix.append(l)\n",
    "#\n",
    "#mat1=matrixOP(matrix)\n",
    "#mat2=matrixOP(matrix)\n"
   ]
  },
  {
   "cell_type": "code",
   "execution_count": null,
   "id": "1ccb8e49",
   "metadata": {},
   "outputs": [],
   "source": [
    "#output1=mat1.addition(mat2)\n",
    "#output2=mat1.subtraction(mat2)\n",
    "#print(output1)\n",
    "#print(output2)"
   ]
  },
  {
   "cell_type": "code",
   "execution_count": 46,
   "id": "a329af8b",
   "metadata": {},
   "outputs": [
    {
     "name": "stdout",
     "output_type": "stream",
     "text": [
      "[[1, 2], [3, 4]]\n",
      "[[1, 3], [2, 5]]\n"
     ]
    }
   ],
   "source": [
    "m1=[[1,2],[3,4]]\n",
    "m2=[[1,3],[2,5]]\n",
    "mat1=matrixOP(m1)\n",
    "mat2=matrixOP(m2)\n",
    "print(mat1.matrix2D)\n",
    "print(mat2.matrix2D)"
   ]
  },
  {
   "cell_type": "code",
   "execution_count": 47,
   "id": "cfbee901",
   "metadata": {},
   "outputs": [
    {
     "name": "stdout",
     "output_type": "stream",
     "text": [
      "[[2 5]\n",
      " [5 9]]\n",
      "[[ 0 -1]\n",
      " [ 1 -1]]\n"
     ]
    }
   ],
   "source": [
    "print(mat1.addition(mat2))\n",
    "print(mat1.subtraction(mat2))"
   ]
  },
  {
   "cell_type": "markdown",
   "id": "47bd3c29",
   "metadata": {},
   "source": [
    "Write a class to implement common regex operations on a string"
   ]
  },
  {
   "cell_type": "code",
   "execution_count": 56,
   "id": "62c528fb",
   "metadata": {},
   "outputs": [],
   "source": [
    "class CommonRegexString:\n",
    "    def __init__(self,s):\n",
    "        self.s=s\n",
    "    def splitBySpace(self):\n",
    "        l=[x for x in self.s.split()]\n",
    "        return l\n",
    "    def splitByChar(self,c):\n",
    "        l=[x for x in self.s.split(c)]\n",
    "        return l\n",
    "    def countWords(self):\n",
    "        l=[x for x in self.s.split()]\n",
    "        return len(l)"
   ]
  },
  {
   "cell_type": "code",
   "execution_count": 57,
   "id": "d8fda5f5",
   "metadata": {},
   "outputs": [
    {
     "name": "stdout",
     "output_type": "stream",
     "text": [
      "9\n",
      "['MY ', 'ame is Dipe', 'dra Si', 'gh. A', 'd you are awesome.']\n",
      "['MY', 'name', 'is', 'Dipendra', 'Singh.', 'And', 'you', 'are', 'awesome.']\n"
     ]
    }
   ],
   "source": [
    "st=CommonRegexString(\"MY name is Dipendra Singh. And you are awesome.\")\n",
    "print(st.countWords())\n",
    "print(st.splitByChar('n'))\n",
    "print(st.splitBySpace())"
   ]
  },
  {
   "cell_type": "markdown",
   "id": "2f855111",
   "metadata": {},
   "source": [
    "Write a code that uses classmethods and staticmethods"
   ]
  },
  {
   "cell_type": "code",
   "execution_count": null,
   "id": "5b819ab4",
   "metadata": {},
   "outputs": [],
   "source": []
  }
 ],
 "metadata": {
  "kernelspec": {
   "display_name": "Python 3",
   "language": "python",
   "name": "python3"
  },
  "language_info": {
   "codemirror_mode": {
    "name": "ipython",
    "version": 3
   },
   "file_extension": ".py",
   "mimetype": "text/x-python",
   "name": "python",
   "nbconvert_exporter": "python",
   "pygments_lexer": "ipython3",
   "version": "3.13.0"
  }
 },
 "nbformat": 4,
 "nbformat_minor": 5
}
