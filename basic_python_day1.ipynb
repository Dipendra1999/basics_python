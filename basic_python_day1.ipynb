{
 "cells": [
  {
   "cell_type": "code",
   "execution_count": 2,
   "id": "30151e87-6a2c-4dac-a431-2a6bb39ed5cd",
   "metadata": {},
   "outputs": [
    {
     "name": "stdout",
     "output_type": "stream",
     "text": [
      "Hello World\n"
     ]
    }
   ],
   "source": [
    "print(\"Hello World\")"
   ]
  },
  {
   "cell_type": "code",
   "execution_count": 4,
   "id": "6dcb5dd2-f9e7-4470-abb7-7b12a8e1642e",
   "metadata": {},
   "outputs": [
    {
     "name": "stdout",
     "output_type": "stream",
     "text": [
      "Enter the two number: \n"
     ]
    },
    {
     "name": "stdout",
     "output_type": "stream",
     "text": [
      " 56\n",
      " 56\n"
     ]
    },
    {
     "name": "stdout",
     "output_type": "stream",
     "text": [
      "sum of two number is:  112\n"
     ]
    }
   ],
   "source": [
    "print(\"Enter the two number: \")\n",
    "a1=int(input())\n",
    "a2=int(input())\n",
    "print(\"sum of two number is: \", a1+a2)"
   ]
  },
  {
   "cell_type": "code",
   "execution_count": 8,
   "id": "eedec4d0-8b3b-46ad-a34c-9f2620dfda28",
   "metadata": {},
   "outputs": [
    {
     "name": "stdout",
     "output_type": "stream",
     "text": [
      "enter the temperature in degree centigrade\n"
     ]
    },
    {
     "name": "stdout",
     "output_type": "stream",
     "text": [
      " 56\n"
     ]
    },
    {
     "name": "stdout",
     "output_type": "stream",
     "text": [
      "132.8\n"
     ]
    }
   ],
   "source": [
    "print(\"enter the temperature in degree centigrade\")\n",
    "degree_centigrade=float(input())\n",
    "degree_fahrenheit=(degree_centigrade*9/5)+ 32\n",
    "#print(degree_fahrenheit)\n",
    "x=round(degree_fahrenheit,2)\n",
    "print(x)"
   ]
  },
  {
   "cell_type": "code",
   "execution_count": 9,
   "id": "640e7968-2401-4b5d-af5c-ac1f37540fd8",
   "metadata": {},
   "outputs": [
    {
     "name": "stdout",
     "output_type": "stream",
     "text": [
      "enter the width and height of rectangle\n"
     ]
    },
    {
     "name": "stdout",
     "output_type": "stream",
     "text": [
      " 4\n",
      " 5\n"
     ]
    },
    {
     "name": "stdout",
     "output_type": "stream",
     "text": [
      "Area= 20\n"
     ]
    }
   ],
   "source": [
    "print(\"enter the width and height of rectangle\")\n",
    "length=int(input())\n",
    "width=int(input())\n",
    "print(\"Area=\", length*width)"
   ]
  },
  {
   "cell_type": "code",
   "execution_count": 11,
   "id": "644e6a4e-5524-4d67-badb-4905ff221807",
   "metadata": {},
   "outputs": [
    {
     "name": "stdout",
     "output_type": "stream",
     "text": [
      "enter the name:  dipendra singh\n",
      "enter the age:  34\n"
     ]
    },
    {
     "name": "stdout",
     "output_type": "stream",
     "text": [
      "hello  dipendra singh your age  34 is same as my age\n"
     ]
    }
   ],
   "source": [
    "name=input(\"enter the name: \")\n",
    "age=input(\"enter the age: \")\n",
    "print(\"hello \", name, \"your age \", age, \"is same as my age\")"
   ]
  },
  {
   "cell_type": "code",
   "execution_count": 13,
   "id": "5de8f635-9b79-493c-b0a4-0037b9c4e25b",
   "metadata": {},
   "outputs": [
    {
     "name": "stdout",
     "output_type": "stream",
     "text": [
      "enter the positive number:  34\n"
     ]
    },
    {
     "name": "stdout",
     "output_type": "stream",
     "text": [
      "34 is even number\n"
     ]
    }
   ],
   "source": [
    "x=int(input(\"enter the positive number: \"))\n",
    "if x&1==1:\n",
    "    print(x, \"is odd number\")\n",
    "else:\n",
    "    print(x,\"is even number\")"
   ]
  },
  {
   "cell_type": "code",
   "execution_count": 22,
   "id": "f926e5e2-4a90-4e2c-b560-83d86b613249",
   "metadata": {},
   "outputs": [
    {
     "name": "stdout",
     "output_type": "stream",
     "text": [
      "enter the list of number:  10 20 30 40\n"
     ]
    },
    {
     "name": "stdout",
     "output_type": "stream",
     "text": [
      "[10, 20, 30, 40]\n",
      "minimum is: 10\n",
      "maximum is: 40\n"
     ]
    }
   ],
   "source": [
    "l=input(\"enter the list of number: \").split()\n",
    "l=[int(d) for d in l]\n",
    "minimum=l[0]\n",
    "maximum=l[0]\n",
    "for x in l:\n",
    "    if minimum>x:\n",
    "        minimum=x\n",
    "    elif maximum<x:\n",
    "        maximum=x\n",
    "print(l)\n",
    "print(\"minimum is:\", minimum)\n",
    "print(\"maximum is:\", maximum)"
   ]
  },
  {
   "cell_type": "markdown",
   "id": "58f492ed-876c-4541-9311-4dbc263993da",
   "metadata": {},
   "source": [
    "there are different ways of taking list of values as input:\n",
    "\n",
    "1. BY using split method\n",
    "    a. input= 10 20 30 40\n",
    "       input().split()   #it gives you a list of str\n",
    "\n",
    "    b. input= 1234\n",
    "       lst=[int(c) for c in input(enter the number)]    #it gives you a list of integer\n",
    "\n",
    "    c. input= 1,2,3,4\n",
    "       s=input(\"insert the number separated with comma\")\n",
    "       lst=[int(c) for c in s.split(',')]"
   ]
  },
  {
   "cell_type": "code",
   "execution_count": 29,
   "id": "8f09df14-0e48-4950-8583-83b00c0dc806",
   "metadata": {},
   "outputs": [
    {
     "name": "stdout",
     "output_type": "stream",
     "text": [
      "enter the string:  dipu\n"
     ]
    },
    {
     "name": "stdout",
     "output_type": "stream",
     "text": [
      "dipu is not a palindrome\n"
     ]
    }
   ],
   "source": [
    "def isPalindrome(s):\n",
    "    \"\"\" program to check given string is palindrome or not \"\"\"\n",
    "    length=len(s)\n",
    "    for i in range(length//2):\n",
    "        if s[i] != s[length-1-i]:\n",
    "            return False\n",
    "    return True\n",
    "\n",
    "s=input(\"enter the string: \")\n",
    "if isPalindrome(s):\n",
    "    print(f\"{s} is palindrome\")\n",
    "else:\n",
    "    print(f\"{s} is not a palindrome\")\n",
    "        "
   ]
  },
  {
   "cell_type": "code",
   "execution_count": 31,
   "id": "52deffbe-03b0-40c5-99ed-be487b2b9383",
   "metadata": {},
   "outputs": [
    {
     "name": "stdout",
     "output_type": "stream",
     "text": [
      "enter the principle, interest and time period \n"
     ]
    },
    {
     "name": "stdout",
     "output_type": "stream",
     "text": [
      "principle:  100\n",
      "rate of interest:  10\n",
      "time period:  2\n"
     ]
    },
    {
     "name": "stdout",
     "output_type": "stream",
     "text": [
      "121.00000000000001\n"
     ]
    }
   ],
   "source": [
    "print(\"enter the principle, interest and time period \")\n",
    "p=int(input(\"principle: \"))\n",
    "r=int(input(\"rate of interest: \"))\n",
    "t=int(input(\"time period: \"))\n",
    "i=p*((1 + r/100)**t)\n",
    "\n",
    "print(i)\n"
   ]
  },
  {
   "cell_type": "code",
   "execution_count": 33,
   "id": "e971b016-2685-44aa-b95a-b696e8dc01ea",
   "metadata": {},
   "outputs": [
    {
     "name": "stdout",
     "output_type": "stream",
     "text": [
      "enter the days 700\n"
     ]
    },
    {
     "name": "stdout",
     "output_type": "stream",
     "text": [
      "equivalent to 1 year 47 weeks 6 days\n"
     ]
    }
   ],
   "source": [
    "\"\"\" assuming year of 365 days \"\"\"\n",
    "days=int(input(\"enter the days\"))\n",
    "\n",
    "year = int(days/365)\n",
    "weeks= int((days-year*365)/7)\n",
    "days=days-year*365-weeks*7\n",
    "\n",
    "print(f\"equivalent to {year} year {weeks} weeks {days} days\")"
   ]
  },
  {
   "cell_type": "code",
   "execution_count": 35,
   "id": "c8ba454d-df3d-4572-9ae6-3ff7e9a78155",
   "metadata": {},
   "outputs": [
    {
     "name": "stdout",
     "output_type": "stream",
     "text": [
      " enter the list of number using comma separated: 10,20,30,40,-45\n"
     ]
    },
    {
     "name": "stdout",
     "output_type": "stream",
     "text": [
      " sum of all positive integer in the given list is  100\n"
     ]
    }
   ],
   "source": [
    "def sumAllPositive(lst):\n",
    "    sum=0\n",
    "    for l in lst:\n",
    "        if l>0:\n",
    "            sum+=l\n",
    "    return sum\n",
    "\n",
    "\n",
    "lst=input(\" enter the list of number using comma separated:\" )\n",
    "lst=[int(x) for x in lst.split(',')]\n",
    "print(\" sum of all positive integer in the given list is \", sumAllPositive(lst)) "
   ]
  },
  {
   "cell_type": "code",
   "execution_count": 36,
   "id": "3e1f3960-8f66-41e6-8a18-fdefb8459fcb",
   "metadata": {},
   "outputs": [
    {
     "name": "stdout",
     "output_type": "stream",
     "text": [
      "enter the complete sentence:  my name is dipendra singh.\n"
     ]
    },
    {
     "name": "stdout",
     "output_type": "stream",
     "text": [
      "In the give sentence, total words are  5\n"
     ]
    }
   ],
   "source": [
    "sentence=input(\"enter the complete sentence: \").split()\n",
    "print(\"In the give sentence, total words are \" , len(sentence))\n"
   ]
  },
  {
   "cell_type": "code",
   "execution_count": 40,
   "id": "2f1ac02e-b3c4-4da3-934f-19df9bba8116",
   "metadata": {},
   "outputs": [
    {
     "name": "stdout",
     "output_type": "stream",
     "text": [
      "enter the two values \n"
     ]
    },
    {
     "name": "stdout",
     "output_type": "stream",
     "text": [
      "a= 23\n",
      "b= 10\n"
     ]
    },
    {
     "name": "stdout",
     "output_type": "stream",
     "text": [
      "after swap\n",
      "a=10  b=23\n"
     ]
    }
   ],
   "source": [
    "def swap(a,b):\n",
    "    c=a\n",
    "    a=b\n",
    "    b=c\n",
    "    return a,b\n",
    "print(\"enter the two values \")\n",
    "a=input(\"a=\")\n",
    "b=input(\"b=\")\n",
    "a,b = swap(a,b)\n",
    "print(\"after swap\")\n",
    "print(f\"a={a}  b={b}\")\n"
   ]
  },
  {
   "cell_type": "code",
   "execution_count": 4,
   "id": "cec7fe4b-2c8a-484b-8fa5-023be40d006d",
   "metadata": {},
   "outputs": [
    {
     "name": "stdout",
     "output_type": "stream",
     "text": [
      "hello Divanshu Agarwal Dipendra Singh\n"
     ]
    }
   ],
   "source": [
    "#placeholder in string\n",
    "name1=\"Dipendra Singh\"\n",
    "name2=\"Divanshu Agarwal\"\n",
    "greeting=\"hello %s %s\"\n",
    "\n",
    "greeting = greeting % (name2,name1)\n",
    "print(greeting)\n",
    "\n",
    "\n",
    "#print(greeting % [name1.split()])          #error\n",
    "\n"
   ]
  },
  {
   "cell_type": "code",
   "execution_count": null,
   "id": "7f2cee94-8ef6-43b7-9859-cf2eb2bb3de0",
   "metadata": {},
   "outputs": [],
   "source": []
  }
 ],
 "metadata": {
  "kernelspec": {
   "display_name": "Python 3",
   "language": "python",
   "name": "python3"
  },
  "language_info": {
   "codemirror_mode": {
    "name": "ipython",
    "version": 3
   },
   "file_extension": ".py",
   "mimetype": "text/x-python",
   "name": "python",
   "nbconvert_exporter": "python",
   "pygments_lexer": "ipython3",
   "version": "3.13.0"
  }
 },
 "nbformat": 4,
 "nbformat_minor": 5
}
